{
 "cells": [
  {
   "cell_type": "code",
   "execution_count": 1,
   "id": "7c7f012a-05c2-454e-b99f-db3ebaf5b45d",
   "metadata": {},
   "outputs": [],
   "source": [
    "import numpy as np\n",
    "import pandas as pd\n",
    "import osmnx as ox\n",
    "import re"
   ]
  },
  {
   "cell_type": "code",
   "execution_count": 2,
   "id": "ddbbb724-a739-4350-8d74-cb8e64c946d1",
   "metadata": {},
   "outputs": [],
   "source": [
    "schools = pd.read_csv(\"csv/schools_complete.csv\")"
   ]
  },
  {
   "cell_type": "code",
   "execution_count": 17,
   "id": "21f4e513-2627-42a5-b6e1-553217e2ea7e",
   "metadata": {},
   "outputs": [],
   "source": [
    "schools[\"postcode\"] = schools[\"postcode\"].map(lambda x: \" \"\n",
    "                                              .join([i for i in x.split(\" \") if i != \"\"])\n",
    "                                              .replace(\"OJB\", \"0JB\")\n",
    "                                              .replace(\"OLA\", \"0LA\")\n",
    "                                              .replace(\"BT74 4FY\", \"BT74 4FW\")\n",
    "                                             )"
   ]
  },
  {
   "cell_type": "code",
   "execution_count": 15,
   "id": "2276e76f-4156-4a3a-b62f-4039b4b8d9c2",
   "metadata": {},
   "outputs": [],
   "source": [
    "def get_place_details(postcode):\n",
    "    # Before the following, add params[\"addressdetails\"] = 1 to osmnx.downloader._osm_place_download\n",
    "    result = ox.downloader._osm_place_download(postcode)\n",
    "    \n",
    "    if len(result)==0: print(postcode)\n",
    "    details = result[0]\n",
    "    \n",
    "    try:\n",
    "        _ = details[\"address\"][\"county\"]\n",
    "    except KeyError:\n",
    "        details[\"address\"][\"county\"] = \"None\"\n",
    "        \n",
    "    return (details[\"lat\"], details[\"lon\"], details[\"address\"][\"county\"])"
   ]
  },
  {
   "cell_type": "code",
   "execution_count": 18,
   "id": "fb63e687-abe9-4b38-acc0-85342aad2d67",
   "metadata": {
    "tags": []
   },
   "outputs": [],
   "source": [
    "places = schools[\"postcode\"].map(get_place_details)"
   ]
  },
  {
   "cell_type": "code",
   "execution_count": 21,
   "id": "c60537fc-89a8-4e31-a3c1-34c93705d89e",
   "metadata": {},
   "outputs": [],
   "source": [
    "schools[[\"lat\", \"lon\", \"county\"]] = pd.DataFrame(places.tolist(), index=schools.index)"
   ]
  },
  {
   "cell_type": "code",
   "execution_count": 23,
   "id": "ddc92bff-420d-4c70-96ba-f0adad4fb496",
   "metadata": {},
   "outputs": [],
   "source": [
    "schools.to_csv(\"csv/schools_complete_clean.csv\", index=False)"
   ]
  }
 ],
 "metadata": {
  "kernelspec": {
   "display_name": "Python 3 (ipykernel)",
   "language": "python",
   "name": "python3"
  },
  "language_info": {
   "codemirror_mode": {
    "name": "ipython",
    "version": 3
   },
   "file_extension": ".py",
   "mimetype": "text/x-python",
   "name": "python",
   "nbconvert_exporter": "python",
   "pygments_lexer": "ipython3",
   "version": "3.10.8"
  }
 },
 "nbformat": 4,
 "nbformat_minor": 5
}
